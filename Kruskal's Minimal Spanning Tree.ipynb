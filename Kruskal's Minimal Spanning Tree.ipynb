{
 "cells": [
  {
   "cell_type": "code",
   "execution_count": 7,
   "id": "d65db6fb",
   "metadata": {},
   "outputs": [
    {
     "data": {
      "text/plain": [
       "{(0, 2, 5), (1, 4, 2), (2, 3, 1), (3, 4, 1)}"
      ]
     },
     "execution_count": 7,
     "metadata": {},
     "output_type": "execute_result"
    }
   ],
   "source": [
    "def find_parent(parent, i):\n",
    "    if parent[i] != i:\n",
    "        parent[i] = find_parent(parent, parent[i])\n",
    "    return parent[i]\n",
    "\n",
    "def union(parent, rank, x, y):\n",
    "    root_x = find_parent(parent, x)\n",
    "    root_y = find_parent(parent, y)\n",
    "    if rank[root_x] < rank[root_y]:\n",
    "        parent[root_x] = root_y\n",
    "    elif rank[root_x] > rank[root_y]:\n",
    "        parent[root_y] = root_x\n",
    "    else:\n",
    "        parent[root_y] = root_x\n",
    "        rank[root_x] += 1\n",
    "\n",
    "def kruskal(graph):\n",
    "    num_vertices = len(graph)\n",
    "    vertices = list(range(num_vertices))\n",
    "    edges = []\n",
    "\n",
    "    for i in range(num_vertices):\n",
    "        for j in range(i + 1, num_vertices):\n",
    "            if graph[i][j] != 0:\n",
    "                edges.append((i, j, graph[i][j]))\n",
    "\n",
    "    minimum_spanning_tree = set()\n",
    "    parent = {v: v for v in vertices}\n",
    "    rank = {v: 0 for v in vertices}\n",
    "    sorted_edges = sorted(edges, key=lambda x: x[2])\n",
    "\n",
    "    for edge in sorted_edges:\n",
    "        u, v, weight = edge\n",
    "        root_u = find_parent(parent, u)\n",
    "        root_v = find_parent(parent, v)\n",
    "        if root_u != root_v:\n",
    "            minimum_spanning_tree.add(edge)\n",
    "            union(parent, rank, root_u, root_v)\n",
    "\n",
    "    return minimum_spanning_tree\n",
    "\n",
    "graph = [\n",
    "    [0, 19, 5, 0, 0],\n",
    "    [19, 0, 5, 9, 2],\n",
    "    [5, 5, 0, 1, 6],\n",
    "    [0, 9, 1, 0, 1],\n",
    "    [0, 2, 6, 1, 0]\n",
    "]\n",
    "\n",
    "kruskal(graph)"
   ]
  },
  {
   "cell_type": "code",
   "execution_count": null,
   "id": "1e6d83dd",
   "metadata": {},
   "outputs": [],
   "source": []
  }
 ],
 "metadata": {
  "kernelspec": {
   "display_name": "Python 3 (ipykernel)",
   "language": "python",
   "name": "python3"
  },
  "language_info": {
   "codemirror_mode": {
    "name": "ipython",
    "version": 3
   },
   "file_extension": ".py",
   "mimetype": "text/x-python",
   "name": "python",
   "nbconvert_exporter": "python",
   "pygments_lexer": "ipython3",
   "version": "3.11.0"
  }
 },
 "nbformat": 4,
 "nbformat_minor": 5
}
