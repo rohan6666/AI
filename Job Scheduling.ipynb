{
 "cells": [
  {
   "cell_type": "code",
   "execution_count": 3,
   "id": "0eed29d9",
   "metadata": {},
   "outputs": [
    {
     "name": "stdout",
     "output_type": "stream",
     "text": [
      "Jobs scheduled: ['j1', 'j2', 'j4', 'j5']\n",
      "Total Profit: 292\n"
     ]
    }
   ],
   "source": [
    "profit = [15, 27, 10, 100, 150]\n",
    "jobs = [\"j1\", \"j2\", \"j3\", \"j4\", \"j5\"]\n",
    "deadline = [2, 3, 3, 3, 4]\n",
    "profitNJobs = sorted(zip(profit, jobs, deadline), reverse=True)\n",
    "\n",
    "slot = [0] * len(jobs)\n",
    "total_profit = 0\n",
    "scheduled_jobs = [None] * len(jobs)\n",
    "\n",
    "for job in profitNJobs:\n",
    "    for j in range(job[2], 0, -1):\n",
    "        if slot[j] == 0:\n",
    "            scheduled_jobs[j] = job[1]\n",
    "            total_profit += job[0]\n",
    "            slot[j] = 1\n",
    "            break\n",
    "\n",
    "print(\"Jobs scheduled:\", scheduled_jobs[1:])\n",
    "print(\"Total Profit:\", total_profit)"
   ]
  },
  {
   "cell_type": "code",
   "execution_count": 2,
   "id": "e50d2955",
   "metadata": {},
   "outputs": [
    {
     "name": "stdout",
     "output_type": "stream",
     "text": [
      "Jobs :  ['j1', 'j2', 'j4', 'j5']\n",
      "Profits :  292\n"
     ]
    }
   ],
   "source": [
    "profit = [15, 27, 10, 100, 150]\n",
    "jobs = [\"j1\", \"j2\", \"j3\", \"j4\", \"j5\"]\n",
    "deadline = [2, 3, 3, 3, 4]\n",
    "profitNJobs = sorted(zip(profit, jobs, deadline), reverse = True)\n",
    "\n",
    "slot = [0] * len(jobs)\n",
    "totalProfit = 0\n",
    "sheduleJobs = [None] * len(jobs)\n",
    "\n",
    "for job in profitNJobs:\n",
    "    for j in range(job[2], 0, -1):\n",
    "        if slot[j] == 0:\n",
    "            sheduleJobs[j] = job[1]\n",
    "            totalProfit += job[0]\n",
    "            slot[j] = 1\n",
    "            break\n",
    "            \n",
    "print(\"Jobs : \", sheduleJobs[1:])\n",
    "print(\"Profits : \", totalProfit)"
   ]
  }
 ],
 "metadata": {
  "kernelspec": {
   "display_name": "Python 3 (ipykernel)",
   "language": "python",
   "name": "python3"
  },
  "language_info": {
   "codemirror_mode": {
    "name": "ipython",
    "version": 3
   },
   "file_extension": ".py",
   "mimetype": "text/x-python",
   "name": "python",
   "nbconvert_exporter": "python",
   "pygments_lexer": "ipython3",
   "version": "3.11.0"
  }
 },
 "nbformat": 4,
 "nbformat_minor": 5
}
