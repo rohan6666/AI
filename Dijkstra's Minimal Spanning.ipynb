{
 "cells": [
  {
   "cell_type": "code",
   "execution_count": 3,
   "id": "4b196588",
   "metadata": {},
   "outputs": [
    {
     "data": {
      "text/plain": [
       "[0, 1, 3, 4, 5]"
      ]
     },
     "execution_count": 3,
     "metadata": {},
     "output_type": "execute_result"
    }
   ],
   "source": [
    "from numpy import Inf\n",
    "\n",
    "def Dijkstra(graph, start):\n",
    "    num_nodes = len(graph)\n",
    "    distances = [Inf] * num_nodes\n",
    "    distances[start] = 0\n",
    "    visited = [False] * num_nodes\n",
    "    \n",
    "    for _ in range(num_nodes):\n",
    "        current_node = -1\n",
    "        \n",
    "        for node in range(num_nodes):\n",
    "            if not visited[node] and (current_node == -1 or distances[node] < distances[current_node]):\n",
    "                current_node = node\n",
    "        \n",
    "        if distances[current_node] == Inf:\n",
    "            break\n",
    "        \n",
    "        visited[current_node] = True\n",
    "        \n",
    "        for neighbor, dist in graph[current_node]:\n",
    "            new_distance = distances[current_node] + dist\n",
    "            if new_distance < distances[neighbor]:\n",
    "                distances[neighbor] = new_distance\n",
    "    \n",
    "    return distances\n",
    "\n",
    "graph = {\n",
    "    0: [(1, 1)],\n",
    "    1: [(0, 1), (2, 2), (3, 3)],\n",
    "    2: [(1, 2), (3, 1), (4, 5)],\n",
    "    3: [(1, 3), (2, 1), (4, 1)],\n",
    "    4: [(2, 5), (3, 1)]\n",
    "}\n",
    "\n",
    "Dijkstra(graph, 0)"
   ]
  }
 ],
 "metadata": {
  "kernelspec": {
   "display_name": "Python 3 (ipykernel)",
   "language": "python",
   "name": "python3"
  },
  "language_info": {
   "codemirror_mode": {
    "name": "ipython",
    "version": 3
   },
   "file_extension": ".py",
   "mimetype": "text/x-python",
   "name": "python",
   "nbconvert_exporter": "python",
   "pygments_lexer": "ipython3",
   "version": "3.11.0"
  }
 },
 "nbformat": 4,
 "nbformat_minor": 5
}
