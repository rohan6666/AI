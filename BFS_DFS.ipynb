{
 "cells": [
  {
   "cell_type": "code",
   "execution_count": 6,
   "id": "96bc77ae",
   "metadata": {},
   "outputs": [
    {
     "name": "stdout",
     "output_type": "stream",
     "text": [
      "BFS : 5 3 7 2 4 8 "
     ]
    }
   ],
   "source": [
    "graph = {\n",
    "    '5' : ['3', '7'],\n",
    "    '3' : ['2', '4'],\n",
    "    '7' : ['8'],\n",
    "    '2' : [],\n",
    "    '4' : ['8'],\n",
    "    '8' : []\n",
    "}\n",
    "\n",
    "visited = []\n",
    "queue = []\n",
    "\n",
    "def BFS(graph, node):\n",
    "    visited.append(node)\n",
    "    queue.append(node)\n",
    "    \n",
    "    while queue:\n",
    "        m = queue.pop(0)\n",
    "#         print(m)\n",
    "        print(m, end = ' ') # end make sure next line print on same line\n",
    "        \n",
    "        for neighbour in graph[m]:\n",
    "            if neighbour not in visited:\n",
    "                visited.append(neighbour)\n",
    "                queue.append(neighbour)\n",
    "                \n",
    "print(\"BFS :\", end = ' ') # end make sure next line print on same line\n",
    "BFS(graph, '5')"
   ]
  },
  {
   "cell_type": "code",
   "execution_count": 5,
   "id": "969d9f95",
   "metadata": {},
   "outputs": [
    {
     "name": "stdout",
     "output_type": "stream",
     "text": [
      "DFS : 5 3 2 4 8 7 "
     ]
    }
   ],
   "source": [
    "graph = {\n",
    "    '5' : ['3', '7'],\n",
    "    '3' : ['2', '4'],\n",
    "    '7' : ['8'],\n",
    "    '2' : [],\n",
    "    '4' : ['8'],\n",
    "    '8' : []\n",
    "}\n",
    "\n",
    "visited = set()\n",
    "\n",
    "def DFS(graph, visited, node):\n",
    "    if node not in visited:\n",
    "#         print(node);\n",
    "        print(node, end = ' ') # end make sure next line print on same line\n",
    "        visited.add(node)\n",
    "        for neighbour in graph[node]:\n",
    "            DFS(graph, visited, neighbour)\n",
    "\n",
    "print(\"DFS :\", end = ' ') # end make sure next line print on same line\n",
    "DFS(graph, visited, '5')"
   ]
  },
  {
   "cell_type": "code",
   "execution_count": 3,
   "id": "a921c717",
   "metadata": {},
   "outputs": [
    {
     "name": "stdout",
     "output_type": "stream",
     "text": [
      "BFS : 5 3 7 2 4 8 "
     ]
    }
   ],
   "source": [
    "visited = []\n",
    "queue = []\n",
    "\n",
    "def BFS(graph, node):\n",
    "    visited.append(node)\n",
    "    queue.append(node)\n",
    "    \n",
    "    while queue:\n",
    "        m = queue.pop(0)\n",
    "        print(m, end = ' ')\n",
    "        \n",
    "        for neighbour in graph[m]:\n",
    "            if neighbour not in visited:\n",
    "                visited.append(neighbour)\n",
    "                queue.append(neighbour)\n",
    "        \n",
    "\n",
    "graph = {\n",
    "    '5' : ['3', '7'],\n",
    "    '3' : ['2', '4'],\n",
    "    '7' : ['8'],\n",
    "    '2' : [],\n",
    "    '4' : ['8'],\n",
    "    '8' : []   \n",
    "}\n",
    "\n",
    "print(\"BFS :\", end = \" \")\n",
    "BFS(graph, '5')"
   ]
  },
  {
   "cell_type": "code",
   "execution_count": 6,
   "id": "b56e1c99",
   "metadata": {},
   "outputs": [
    {
     "name": "stdout",
     "output_type": "stream",
     "text": [
      "DFS : 5 3 2 4 8 7 "
     ]
    }
   ],
   "source": [
    "visited = set()\n",
    "\n",
    "def DFS(graph, node):\n",
    "    if node not in visited:\n",
    "        print(node, end = \" \")\n",
    "        visited.add(node)\n",
    "        \n",
    "        for neighbour in graph[node]:\n",
    "            DFS(graph, neighbour)\n",
    "\n",
    "graph = {\n",
    "    '5' : ['3', '7'],\n",
    "    '3' : ['2', '4'],\n",
    "    '7' : ['8'],\n",
    "    '2' : [],\n",
    "    '4' : ['8'],\n",
    "    '8' : []\n",
    "}\n",
    "\n",
    "print(\"DFS : \", end = '') \n",
    "DFS(graph, '5')"
   ]
  }
 ],
 "metadata": {
  "kernelspec": {
   "display_name": "Python 3 (ipykernel)",
   "language": "python",
   "name": "python3"
  },
  "language_info": {
   "codemirror_mode": {
    "name": "ipython",
    "version": 3
   },
   "file_extension": ".py",
   "mimetype": "text/x-python",
   "name": "python",
   "nbconvert_exporter": "python",
   "pygments_lexer": "ipython3",
   "version": "3.11.0"
  }
 },
 "nbformat": 4,
 "nbformat_minor": 5
}
