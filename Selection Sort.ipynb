{
 "cells": [
  {
   "cell_type": "code",
   "execution_count": 2,
   "id": "6e3c2b69",
   "metadata": {},
   "outputs": [
    {
     "name": "stdout",
     "output_type": "stream",
     "text": [
      "Sorted :  [-21, 1, 2, 4, 7, 9]\n"
     ]
    }
   ],
   "source": [
    "def SelectionSort(arr):\n",
    "    n = len(arr)\n",
    "    \n",
    "    for i in range(n):\n",
    "        minIndex = i\n",
    "        \n",
    "        for j in range(i+1, n):\n",
    "            if(arr[j] < arr[minIndex]):\n",
    "                minIndex = j\n",
    "        \n",
    "        arr[i], arr[minIndex] = arr[minIndex], arr[i]\n",
    "    \n",
    "    return arr\n",
    "\n",
    "\n",
    "arr = [7, 9, 1, -21, 2, 4]\n",
    "sortedArr = SelectionSort(arr)\n",
    "print(\"Sorted : \", sortedArr)"
   ]
  },
  {
   "cell_type": "code",
   "execution_count": 2,
   "id": "013502de",
   "metadata": {},
   "outputs": [
    {
     "data": {
      "text/plain": [
       "[-12, 2, 12, 19, 19]"
      ]
     },
     "execution_count": 2,
     "metadata": {},
     "output_type": "execute_result"
    }
   ],
   "source": [
    "def SelectionSort(arr):\n",
    "    n = len(arr)\n",
    "    \n",
    "    for i in range(n):\n",
    "        minIdx = i\n",
    "        \n",
    "        for j in range(i + 1, n):\n",
    "            if arr[j] < arr[minIdx]:\n",
    "                minIdx = j\n",
    "        \n",
    "        arr[i], arr[minIdx] = arr[minIdx], arr[i]\n",
    "    \n",
    "    return arr\n",
    "\n",
    "arr = [19, 2, 0 -12, 12, 19]\n",
    "SelectionSort(arr)"
   ]
  }
 ],
 "metadata": {
  "kernelspec": {
   "display_name": "Python 3 (ipykernel)",
   "language": "python",
   "name": "python3"
  },
  "language_info": {
   "codemirror_mode": {
    "name": "ipython",
    "version": 3
   },
   "file_extension": ".py",
   "mimetype": "text/x-python",
   "name": "python",
   "nbconvert_exporter": "python",
   "pygments_lexer": "ipython3",
   "version": "3.11.0"
  }
 },
 "nbformat": 4,
 "nbformat_minor": 5
}
