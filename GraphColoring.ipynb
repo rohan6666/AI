{
 "cells": [
  {
   "cell_type": "code",
   "execution_count": 1,
   "id": "40d9b8a1",
   "metadata": {},
   "outputs": [
    {
     "name": "stdout",
     "output_type": "stream",
     "text": [
      "Solution found: [1, 2, 3, 2]\n"
     ]
    }
   ],
   "source": [
    "class GraphColoring:\n",
    "    def __init__(self, graph, num_colors):\n",
    "        self.graph = graph\n",
    "        self.num_colors = num_colors\n",
    "        self.colors = [0] * len(graph)\n",
    "        self.solution = None\n",
    "\n",
    "    def is_safe(self, v, color):\n",
    "        for i in range(len(self.graph)):\n",
    "            if self.graph[v][i] == 1 and self.colors[i] == color:\n",
    "                return False\n",
    "        return True\n",
    "\n",
    "    def backtrack(self, v):\n",
    "        if v == len(self.graph):\n",
    "            self.solution = self.colors.copy()\n",
    "            return True\n",
    "\n",
    "        for color in range(1, self.num_colors + 1):\n",
    "            if self.is_safe(v, color):\n",
    "                self.colors[v] = color\n",
    "                if self.backtrack(v + 1):\n",
    "                    return True\n",
    "                self.colors[v] = 0\n",
    "\n",
    "        return False\n",
    "\n",
    "    def solve(self):\n",
    "        if not self.backtrack(0):\n",
    "            print(\"No solution exists.\")\n",
    "        else:\n",
    "            print(\"Solution found:\", self.solution)\n",
    "\n",
    "\n",
    "graph = [\n",
    "    [0, 1, 1, 1],\n",
    "    [1, 0, 1, 0],\n",
    "    [1, 1, 0, 1],\n",
    "    [1, 0, 1, 0]\n",
    "]\n",
    "num_colors = 3\n",
    "\n",
    "solver = GraphColoring(graph, num_colors)\n",
    "solver.solve()"
   ]
  }
 ],
 "metadata": {
  "kernelspec": {
   "display_name": "Python 3 (ipykernel)",
   "language": "python",
   "name": "python3"
  },
  "language_info": {
   "codemirror_mode": {
    "name": "ipython",
    "version": 3
   },
   "file_extension": ".py",
   "mimetype": "text/x-python",
   "name": "python",
   "nbconvert_exporter": "python",
   "pygments_lexer": "ipython3",
   "version": "3.11.0"
  }
 },
 "nbformat": 4,
 "nbformat_minor": 5
}
