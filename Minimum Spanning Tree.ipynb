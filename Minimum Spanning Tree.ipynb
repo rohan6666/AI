{
 "cells": [
  {
   "cell_type": "code",
   "execution_count": 1,
   "id": "e0a7d5eb",
   "metadata": {},
   "outputs": [
    {
     "data": {
      "text/plain": [
       "[('5', '7', 3), ('7', '8', 4), ('5', '3', 9), ('3', '4', 2), ('3', '2', 5)]"
      ]
     },
     "execution_count": 1,
     "metadata": {},
     "output_type": "execute_result"
    }
   ],
   "source": [
    "import heapq\n",
    "\n",
    "def MST(graph):\n",
    "    root = next(iter(graph))\n",
    "    visited = set([root])\n",
    "    mst = []\n",
    "    heap = []\n",
    "    \n",
    "    for neighbour, weight in graph[root]:\n",
    "        heapq.heappush(heap, (weight, root, neighbour))\n",
    "        \n",
    "    while heap:\n",
    "        weight, src, dest = heapq.heappop(heap)\n",
    "        \n",
    "        if dest not in visited:\n",
    "            visited.add(dest)\n",
    "            mst.append((src, dest, weight))\n",
    "            \n",
    "            for neighbour, weight in graph[dest]:\n",
    "                if neighbour not in visited:\n",
    "                    heapq.heappush(heap, (weight, dest, neighbour))\n",
    "    return mst\n",
    "        \n",
    "        \n",
    "\n",
    "graph = {\n",
    "    '5' : [('3', 9), ('7', 3)],\n",
    "    '3' : [('2', 5), ('4', 2)],\n",
    "    '7' : [('8', 4)],\n",
    "    '2' : [],\n",
    "    '4' : [('8', 2)],\n",
    "    '8' : []\n",
    "}\n",
    "\n",
    "MST(graph)"
   ]
  },
  {
   "cell_type": "code",
   "execution_count": 6,
   "id": "a2e2fbc2",
   "metadata": {},
   "outputs": [
    {
     "data": {
      "text/plain": [
       "[('5', '7', 3), ('5', '8', 4), ('5', '3', 9), ('5', '4', 2), ('5', '2', 5)]"
      ]
     },
     "execution_count": 6,
     "metadata": {},
     "output_type": "execute_result"
    }
   ],
   "source": [
    "import heapq\n",
    "\n",
    "def MST(graph):\n",
    "    root = next(iter(graph))\n",
    "    visited = set([root])\n",
    "    heap = []\n",
    "    mst = []\n",
    "    \n",
    "    for neighbour, weight in graph[root]:\n",
    "        heapq.heappush(heap, (weight, root, neighbour))\n",
    "    \n",
    "    while heap:\n",
    "        weight, src, dist = heapq.heappop(heap)\n",
    "        \n",
    "        if dist not in visited:\n",
    "            mst.append((src, dist, weight))\n",
    "            visited.add(dist)\n",
    "            \n",
    "            for neighbour, weight in graph[dist]:\n",
    "                if neighbour not in visited:\n",
    "                    heapq.heappush(heap, (weight, src, neighbour))\n",
    "    return mst\n",
    "    \n",
    "    \n",
    "\n",
    "graph = {\n",
    "    '5' : [('3', 9), ('7', 3)],\n",
    "    '3' : [('2', 5), ('4', 2)],\n",
    "    '7' : [('8', 4)],\n",
    "    '2' : [],\n",
    "    '4' : [('8', 2)],\n",
    "    '8' : []\n",
    "}\n",
    "\n",
    "MST(graph)"
   ]
  }
 ],
 "metadata": {
  "kernelspec": {
   "display_name": "Python 3 (ipykernel)",
   "language": "python",
   "name": "python3"
  },
  "language_info": {
   "codemirror_mode": {
    "name": "ipython",
    "version": 3
   },
   "file_extension": ".py",
   "mimetype": "text/x-python",
   "name": "python",
   "nbconvert_exporter": "python",
   "pygments_lexer": "ipython3",
   "version": "3.11.0"
  }
 },
 "nbformat": 4,
 "nbformat_minor": 5
}
