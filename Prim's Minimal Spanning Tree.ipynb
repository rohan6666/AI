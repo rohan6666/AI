{
 "cells": [
  {
   "cell_type": "code",
   "execution_count": 3,
   "id": "a8fb09d2",
   "metadata": {},
   "outputs": [
    {
     "name": "stdout",
     "output_type": "stream",
     "text": [
      "Edge : Weight\n",
      "\n",
      "0-2: 5\n",
      "2-3: 1\n",
      "3-4: 1\n",
      "4-1: 2\n"
     ]
    }
   ],
   "source": [
    "INF = 9999999\n",
    "N = 5\n",
    "\n",
    "G = [\n",
    "    [0, 19, 5, 0, 0],\n",
    "    [19, 0, 5, 9, 2],\n",
    "    [5, 5, 0, 1, 6],\n",
    "    [0, 9, 1, 0, 1],\n",
    "    [0, 2, 6, 1, 0]\n",
    "]\n",
    "\n",
    "selected_node = [False] * N\n",
    "selected_node[0] = True\n",
    "\n",
    "no_edge = 0\n",
    "\n",
    "print(\"Edge : Weight\\n\")\n",
    "\n",
    "while no_edge < N - 1:\n",
    "    minimum = INF\n",
    "    a, b = 0, 0\n",
    "\n",
    "    for m in range(N):\n",
    "        if selected_node[m]:\n",
    "            for n in range(N):\n",
    "                if not selected_node[n] and G[m][n] != 0 and G[m][n] < minimum:\n",
    "                    minimum = G[m][n]\n",
    "                    a, b = m, n\n",
    "\n",
    "    print(f\"{a}-{b}: {G[a][b]}\")\n",
    "\n",
    "    selected_node[b] = True\n",
    "    no_edge += 1"
   ]
  },
  {
   "cell_type": "code",
   "execution_count": null,
   "id": "9d755780",
   "metadata": {},
   "outputs": [],
   "source": [
    "N = 5\n",
    "\n",
    "graph = [\n",
    "    [0, 19, 5, 0, 0],\n",
    "    [19, 0, 5, 9, 2],\n",
    "    [5, 5, 0, 1, 6],\n",
    "    [0, 9, 1, 0, 1],\n",
    "    [0, 2, 6, 1, 0]\n",
    "]\n",
    "\n",
    "selectedNode = [False] * 5\n",
    "selectedNode[0] = True\n",
    "noEdge = 0\n",
    "\n",
    "while noEdge < N - 1:\n",
    "    minDist = 9999999\n",
    "    a, b = 0, 0\n",
    "    \n",
    "    for m in range(N):\n",
    "        if selectedNode[m]:\n",
    "            for n in range(N):\n",
    "                if not selectedNode[n] and graph[m][n] != 0 and graph[m][n] < minDist:\n",
    "                    minDist = graph[m][n]\n",
    "                    a, b = m, n\n",
    "    print(a, \"->\", b, \" : \", minDist)\n",
    "    selectedNode[b] = True\n",
    "    noEdge += 1"
   ]
  }
 ],
 "metadata": {
  "kernelspec": {
   "display_name": "Python 3 (ipykernel)",
   "language": "python",
   "name": "python3"
  },
  "language_info": {
   "codemirror_mode": {
    "name": "ipython",
    "version": 3
   },
   "file_extension": ".py",
   "mimetype": "text/x-python",
   "name": "python",
   "nbconvert_exporter": "python",
   "pygments_lexer": "ipython3",
   "version": "3.11.0"
  }
 },
 "nbformat": 4,
 "nbformat_minor": 5
}
